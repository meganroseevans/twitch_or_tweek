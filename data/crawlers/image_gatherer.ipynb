{
 "cells": [
  {
   "cell_type": "code",
   "execution_count": 1,
   "metadata": {},
   "outputs": [
    {
     "name": "stdout",
     "output_type": "stream",
     "text": [
      "Defaulting to user installation because normal site-packages is not writeable\n",
      "Requirement already satisfied: selenium in /Users/megan/Library/Python/3.9/lib/python/site-packages (4.16.0)\n",
      "Requirement already satisfied: certifi>=2021.10.8 in /Users/megan/Library/Python/3.9/lib/python/site-packages (from selenium) (2023.11.17)\n",
      "Requirement already satisfied: urllib3[socks]<3,>=1.26 in /Users/megan/Library/Python/3.9/lib/python/site-packages (from selenium) (1.26.18)\n",
      "Requirement already satisfied: trio-websocket~=0.9 in /Users/megan/Library/Python/3.9/lib/python/site-packages (from selenium) (0.11.1)\n",
      "Requirement already satisfied: trio~=0.17 in /Users/megan/Library/Python/3.9/lib/python/site-packages (from selenium) (0.24.0)\n",
      "Requirement already satisfied: sortedcontainers in /Users/megan/Library/Python/3.9/lib/python/site-packages (from trio~=0.17->selenium) (2.4.0)\n",
      "Requirement already satisfied: outcome in /Users/megan/Library/Python/3.9/lib/python/site-packages (from trio~=0.17->selenium) (1.3.0.post0)\n",
      "Requirement already satisfied: attrs>=20.1.0 in /Users/megan/Library/Python/3.9/lib/python/site-packages (from trio~=0.17->selenium) (23.2.0)\n",
      "Requirement already satisfied: sniffio>=1.3.0 in /Users/megan/Library/Python/3.9/lib/python/site-packages (from trio~=0.17->selenium) (1.3.0)\n",
      "Requirement already satisfied: idna in /Users/megan/Library/Python/3.9/lib/python/site-packages (from trio~=0.17->selenium) (3.6)\n",
      "Requirement already satisfied: exceptiongroup in /Users/megan/Library/Python/3.9/lib/python/site-packages (from trio~=0.17->selenium) (1.2.0)\n",
      "Requirement already satisfied: wsproto>=0.14 in /Users/megan/Library/Python/3.9/lib/python/site-packages (from trio-websocket~=0.9->selenium) (1.2.0)\n",
      "Requirement already satisfied: PySocks!=1.5.7,<2.0,>=1.5.6 in /Users/megan/Library/Python/3.9/lib/python/site-packages (from urllib3[socks]<3,>=1.26->selenium) (1.7.1)\n",
      "Requirement already satisfied: h11<1,>=0.9.0 in /Users/megan/Library/Python/3.9/lib/python/site-packages (from wsproto>=0.14->trio-websocket~=0.9->selenium) (0.14.0)\n",
      "\u001b[33mWARNING: You are using pip version 21.2.4; however, version 23.3.2 is available.\n",
      "You should consider upgrading via the '/Library/Developer/CommandLineTools/usr/bin/python3 -m pip install --upgrade pip' command.\u001b[0m\n",
      "Defaulting to user installation because normal site-packages is not writeable\n",
      "Requirement already satisfied: tqdm in /Users/megan/Library/Python/3.9/lib/python/site-packages (4.66.1)\n",
      "\u001b[33mWARNING: You are using pip version 21.2.4; however, version 23.3.2 is available.\n",
      "You should consider upgrading via the '/Library/Developer/CommandLineTools/usr/bin/python3 -m pip install --upgrade pip' command.\u001b[0m\n"
     ]
    }
   ],
   "source": [
    "! pip3 install selenium\n",
    "! pip3 install tqdm"
   ]
  },
  {
   "cell_type": "code",
   "execution_count": 12,
   "metadata": {},
   "outputs": [
    {
     "name": "stdout",
     "output_type": "stream",
     "text": [
      "[200, 203]\n"
     ]
    },
    {
     "name": "stderr",
     "output_type": "stream",
     "text": [
      "  2%|▏         | 168/10814 [28:30<30:06:13, 10.18s/it]\n"
     ]
    },
    {
     "ename": "KeyboardInterrupt",
     "evalue": "",
     "output_type": "error",
     "traceback": [
      "\u001b[0;31m---------------------------------------------------------------------------\u001b[0m",
      "\u001b[0;31mKeyboardInterrupt\u001b[0m                         Traceback (most recent call last)",
      "Cell \u001b[0;32mIn[12], line 65\u001b[0m\n\u001b[1;32m     63\u001b[0m \u001b[38;5;66;03m# Iterate through each website and collect matching image attributes. Export CSV every 25 species.\u001b[39;00m\n\u001b[1;32m     64\u001b[0m \u001b[38;5;28;01mfor\u001b[39;00m species \u001b[38;5;129;01min\u001b[39;00m tqdm(species_list):\n\u001b[0;32m---> 65\u001b[0m     matching_image_attributes \u001b[38;5;241m=\u001b[39m \u001b[43mcollect_matching_image_attributes\u001b[49m\u001b[43m(\u001b[49m\u001b[38;5;124;43mf\u001b[39;49m\u001b[38;5;124;43m\"\u001b[39;49m\u001b[38;5;124;43mhttps://media.ebird.org/catalog?taxonCode=\u001b[39;49m\u001b[38;5;132;43;01m{\u001b[39;49;00m\u001b[43mspecies\u001b[49m\u001b[38;5;132;43;01m}\u001b[39;49;00m\u001b[38;5;124;43m&sort=rating_rank_desc&mediaType=photo\u001b[39;49m\u001b[38;5;124;43m\"\u001b[39;49m\u001b[43m)\u001b[49m\n\u001b[1;32m     66\u001b[0m     df_images \u001b[38;5;241m=\u001b[39m pd\u001b[38;5;241m.\u001b[39mDataFrame\u001b[38;5;241m.\u001b[39mfrom_records(matching_image_attributes)\u001b[38;5;241m.\u001b[39massign(species_code\u001b[38;5;241m=\u001b[39mspecies)\n\u001b[1;32m     67\u001b[0m     df_birds \u001b[38;5;241m=\u001b[39m pd\u001b[38;5;241m.\u001b[39mconcat([df_birds, df_images], ignore_index\u001b[38;5;241m=\u001b[39m\u001b[38;5;28;01mTrue\u001b[39;00m)\n",
      "Cell \u001b[0;32mIn[12], line 21\u001b[0m, in \u001b[0;36mcollect_matching_image_attributes\u001b[0;34m(url)\u001b[0m\n\u001b[1;32m     18\u001b[0m driver\u001b[38;5;241m.\u001b[39mget(url)\n\u001b[1;32m     20\u001b[0m \u001b[38;5;66;03m# Allow time for the page to load (you may need to adjust the sleep duration)\u001b[39;00m\n\u001b[0;32m---> 21\u001b[0m \u001b[43mtime\u001b[49m\u001b[38;5;241;43m.\u001b[39;49m\u001b[43msleep\u001b[49m\u001b[43m(\u001b[49m\u001b[38;5;241;43m5\u001b[39;49m\u001b[43m)\u001b[49m\n\u001b[1;32m     23\u001b[0m \u001b[38;5;66;03m# Execute the provided JavaScript code on the page\u001b[39;00m\n\u001b[1;32m     24\u001b[0m matching_images \u001b[38;5;241m=\u001b[39m driver\u001b[38;5;241m.\u001b[39mexecute_script(\u001b[38;5;124m\"\"\"\u001b[39m\n\u001b[1;32m     25\u001b[0m \u001b[38;5;124m    const prefix = \u001b[39m\u001b[38;5;124m'\u001b[39m\u001b[38;5;124mhttps://cdn.download.ams.birds.cornell.edu/api/v1/asset/\u001b[39m\u001b[38;5;124m'\u001b[39m\u001b[38;5;124m;\u001b[39m\n\u001b[1;32m     26\u001b[0m \u001b[38;5;124m    const images = document.querySelectorAll(\u001b[39m\u001b[38;5;124m'\u001b[39m\u001b[38;5;124mimg\u001b[39m\u001b[38;5;124m'\u001b[39m\u001b[38;5;124m);\u001b[39m\n\u001b[0;32m   (...)\u001b[0m\n\u001b[1;32m     36\u001b[0m \u001b[38;5;124m    return matchingImages;\u001b[39m\n\u001b[1;32m     37\u001b[0m \u001b[38;5;124m\u001b[39m\u001b[38;5;124m\"\"\"\u001b[39m)\n",
      "\u001b[0;31mKeyboardInterrupt\u001b[0m: "
     ]
    }
   ],
   "source": [
    "from selenium import webdriver\n",
    "from selenium.webdriver.chrome.options import Options\n",
    "import time\n",
    "import pandas as pd\n",
    "from tqdm import tqdm\n",
    "\n",
    "def collect_matching_image_attributes(url):\n",
    "    try:\n",
    "        # Set up Chrome options to run headless\n",
    "        chrome_options = Options()\n",
    "        chrome_options.add_argument('--headless')\n",
    "        chrome_options.add_argument('--disable-gpu')\n",
    "        \n",
    "        # Create a new instance of the Chrome driver\n",
    "        driver = webdriver.Chrome(options=chrome_options)\n",
    "        \n",
    "        # Open the website\n",
    "        driver.get(url)\n",
    "        \n",
    "        # Allow time for the page to load (you may need to adjust the sleep duration)\n",
    "        time.sleep(5)\n",
    "        \n",
    "        # Execute the provided JavaScript code on the page\n",
    "        matching_images = driver.execute_script(\"\"\"\n",
    "            const prefix = 'https://cdn.download.ams.birds.cornell.edu/api/v1/asset/';\n",
    "            const images = document.querySelectorAll('img');\n",
    "\n",
    "            const matchingImages = Array.from(images).filter((img) => img.src.startsWith(prefix)).map((fimg) => {\n",
    "                const alt = fimg.alt.split(' - ')[0].trim();\n",
    "                const srcParts = fimg.src.split('/');\n",
    "                const src = srcParts[srcParts.length - 2];\n",
    "\n",
    "                return { alt, src };\n",
    "            });\n",
    "\n",
    "            return matchingImages;\n",
    "        \"\"\")\n",
    "\n",
    "        return matching_images\n",
    "\n",
    "    except Exception as e:\n",
    "        print(f\"An error occurred while collecting matching image attributes: {str(e)}\")\n",
    "\n",
    "    finally:\n",
    "        # Close the browser window\n",
    "        driver.quit()\n",
    "\n",
    "# Find last index saved as set as our starting point\n",
    "from os import listdir\n",
    "from os.path import isfile, join\n",
    "latest_species_scraped = [int(f.split('_')[-1].split('.')[0]) for f in listdir('../image_downloads/') if isfile(join('../image_downloads', f))]\n",
    "print(latest_species_scraped)\n",
    "starting_point = max(latest_species_scraped)\n",
    "\n",
    "# Import list of bird species from ebird txonomy 2023 file\n",
    "taxonomy = pd.read_csv('../ebird_taxonomy_v2023.csv')\n",
    "species_list = taxonomy[taxonomy.CATEGORY=='species'].SPECIES_CODE[starting_point:]\n",
    "\n",
    "# Initialise variables\n",
    "df_birds = pd.DataFrame()\n",
    "index = 0\n",
    "\n",
    "# Iterate through each website and collect matching image attributes. Export CSV every 25 species.\n",
    "for species in tqdm(species_list):\n",
    "    matching_image_attributes = collect_matching_image_attributes(f\"https://media.ebird.org/catalog?taxonCode={species}&sort=rating_rank_desc&mediaType=photo\")\n",
    "    df_images = pd.DataFrame.from_records(matching_image_attributes).assign(species_code=species)\n",
    "    df_birds = pd.concat([df_birds, df_images], ignore_index=True)\n",
    "\n",
    "    index += 1\n",
    "    # Export dataframe as csv every 25 species\n",
    "    if index%25 == 0:\n",
    "        df_birds.to_csv(f'../image_downloads/image_downloads_{starting_point+index-24}_to_{starting_point+index}.csv')\n",
    "    "
   ]
  },
  {
   "cell_type": "code",
   "execution_count": 16,
   "metadata": {},
   "outputs": [],
   "source": [
    "df_birds[3948:].to_csv('../image_downloads/image_downloads_351_to_375.csv')"
   ]
  },
  {
   "cell_type": "code",
   "execution_count": null,
   "metadata": {},
   "outputs": [],
   "source": []
  }
 ],
 "metadata": {
  "kernelspec": {
   "display_name": "Python 3",
   "language": "python",
   "name": "python3"
  },
  "language_info": {
   "codemirror_mode": {
    "name": "ipython",
    "version": 3
   },
   "file_extension": ".py",
   "mimetype": "text/x-python",
   "name": "python",
   "nbconvert_exporter": "python",
   "pygments_lexer": "ipython3",
   "version": "3.9.6"
  }
 },
 "nbformat": 4,
 "nbformat_minor": 2
}
