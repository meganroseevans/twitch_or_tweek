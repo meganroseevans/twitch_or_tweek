{
 "cells": [
  {
   "cell_type": "code",
   "execution_count": null,
   "metadata": {},
   "outputs": [],
   "source": [
    "! pip3 install selenium\n",
    "! pip3 install tqdm"
   ]
  },
  {
   "cell_type": "code",
   "execution_count": 5,
   "metadata": {},
   "outputs": [
    {
     "name": "stderr",
     "output_type": "stream",
     "text": [
      "  2%|▏         | 197/11017 [27:59<25:24:49,  8.46s/it]"
     ]
    }
   ],
   "source": [
    "from selenium import webdriver\n",
    "from selenium.webdriver.chrome.options import Options\n",
    "import time\n",
    "import pandas as pd\n",
    "from tqdm import tqdm\n",
    "\n",
    "def collect_matching_image_attributes(url):\n",
    "    try:\n",
    "        # Set up Chrome options to run headless\n",
    "        chrome_options = Options()\n",
    "        chrome_options.add_argument('--headless')\n",
    "        chrome_options.add_argument('--disable-gpu')\n",
    "        \n",
    "        # Create a new instance of the Chrome driver\n",
    "        driver = webdriver.Chrome(options=chrome_options)\n",
    "        \n",
    "        # Open the website\n",
    "        driver.get(url)\n",
    "        \n",
    "        # Allow time for the page to load (you may need to adjust the sleep duration)\n",
    "        time.sleep(5)\n",
    "        \n",
    "        # Execute the provided JavaScript code on the page\n",
    "        matching_images = driver.execute_script(\"\"\"\n",
    "            const prefix = 'https://cdn.download.ams.birds.cornell.edu/api/v1/asset/';\n",
    "            const images = document.querySelectorAll('img');\n",
    "\n",
    "            const matchingImages = Array.from(images).filter((img) => img.src.startsWith(prefix)).map((fimg) => {\n",
    "                const alt = fimg.alt.split(' - ')[0].trim();\n",
    "                const srcParts = fimg.src.split('/');\n",
    "                const src = srcParts[srcParts.length - 2];\n",
    "\n",
    "                return { alt, src };\n",
    "            });\n",
    "\n",
    "            return matchingImages;\n",
    "        \"\"\")\n",
    "\n",
    "        return matching_images\n",
    "\n",
    "    except Exception as e:\n",
    "        print(f\"An error occurred while collecting matching image attributes: {str(e)}\")\n",
    "\n",
    "    finally:\n",
    "        # Close the browser window\n",
    "        driver.quit()\n",
    "\n",
    "# Find last index saved as set as our starting point\n",
    "from os import listdir\n",
    "from os.path import isfile, join\n",
    "latest_species_scraped = [int(f.split('_')[-1]) for f in listdir('data/image_downloads/') if isfile(join('data/image_downloads', f))]\n",
    "starting_point = max(latest_species_scraped)\n",
    "\n",
    "# Import list of bird species from ebird txonomy 2023 file\n",
    "taxonomy = pd.read_csv('../ebird_taxonomy_v2023.csv')\n",
    "species_list = taxonomy[starting_point:][taxonomy.CATEGORY=='species'].SPECIES_CODE\n",
    "\n",
    "# Initialise variables\n",
    "df_birds = pd.DataFrame()\n",
    "index = 0\n",
    "index = 0\n",
    "\n",
    "# Iterate through each website and collect matching image attributes. Export CSV every 25 species.\n",
    "for species in tqdm(species_list):\n",
    "    matching_image_attributes = collect_matching_image_attributes(f\"https://media.ebird.org/catalog?taxonCode={species}&sort=rating_rank_desc&mediaType=photo\")\n",
    "    df_images = pd.DataFrame.from_records(matching_image_attributes).assign(species_code=species)\n",
    "    df_birds = pd.concat([df_birds, df_images], ignore_index=True)\n",
    "\n",
    "    index += 1\n",
    "    # Export dataframe as csv every 25 species\n",
    "    if index%25 == 0:\n",
    "        df_birds[index-24:index].to_csv(f'../image_downloads/image_downloads_{index-24}_to_{index}.csv')\n",
    "    "
   ]
  },
  {
   "cell_type": "code",
   "execution_count": null,
   "metadata": {},
   "outputs": [],
   "source": []
  }
 ],
 "metadata": {
  "kernelspec": {
   "display_name": "Python 3",
   "language": "python",
   "name": "python3"
  },
  "language_info": {
   "codemirror_mode": {
    "name": "ipython",
    "version": 3
   },
   "file_extension": ".py",
   "mimetype": "text/x-python",
   "name": "python",
   "nbconvert_exporter": "python",
   "pygments_lexer": "ipython3",
   "version": "3.9.6"
  }
 },
 "nbformat": 4,
 "nbformat_minor": 2
}
