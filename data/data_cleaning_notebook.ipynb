{
 "cells": [
  {
   "cell_type": "markdown",
   "metadata": {},
   "source": [
    "# Getting additional bird data"
   ]
  },
  {
   "cell_type": "markdown",
   "metadata": {},
   "source": [
    "`# Step 1. Retrieving data from eBird`\n",
    "\n",
    "Go to  https://media.ebird.org/catalog?regionCode=AU&sort=rating_rank_desc&mediaType=photo.\n",
    "- Replace the region code with your chosen region, e.g. US, GB, CA.\n",
    "- Refer to the Alpha-2 codes [here](https://www.iban.com/country-codes) for the full list of options.\n",
    "\n",
    "Click 'More Results' a bunch of times.\n",
    "\n",
    "Right click on the page > 'Inspect' > 'Console' > Copy and paste the code from [`get_bird_images.js`](./crawlers/get_bird_images.js) into the Console > Run\n",
    "\n",
    "Right-click on the output > 'Copy object' > Paste into a new file called `new_images.json`.\n",
    "\n",
    "Important: Your file MUST be called `new_images.json` and it MUST be stored in the **same directory** as this notebook. "
   ]
  },
  {
   "cell_type": "markdown",
   "metadata": {},
   "source": [
    "`# Step 2. Convert to CSV`"
   ]
  },
  {
   "cell_type": "code",
   "execution_count": null,
   "metadata": {},
   "outputs": [],
   "source": [
    "! pip3 install jq"
   ]
  },
  {
   "cell_type": "code",
   "execution_count": null,
   "metadata": {},
   "outputs": [],
   "source": [
    "# Convert from a json to csv\n",
    "! jq -r '.[] | [.alt, .src] | @csv' new_images.json > new_images.csv"
   ]
  },
  {
   "cell_type": "markdown",
   "metadata": {},
   "source": [
    "`# Step 3. Merge wih existing data`\n",
    "\n",
    "Should the new images be merged with an **existing** set of images?\n",
    "\n",
    "If YES, ensure your existing images are stored as `images.csv` in the same directory as this notebook. Then uncomment and run the below cell.\n",
    "\n",
    "If NO, skip to Step 4."
   ]
  },
  {
   "cell_type": "code",
   "execution_count": null,
   "metadata": {},
   "outputs": [],
   "source": [
    "## Append existing images to new image file\n",
    "## Important, this assumes the image file has a header, it excludes the first line of the existing images file when appending\n",
    "\n",
    "#! awk 'FNR>1' images.csv >> new_images.csv"
   ]
  },
  {
   "cell_type": "markdown",
   "metadata": {},
   "source": [
    "`# Step 4. Categorise`"
   ]
  },
  {
   "cell_type": "markdown",
   "metadata": {},
   "source": [
    "For harder modes to work in twitch or tweek, birds need to be categorised into groups of similar birds.\n",
    "\n",
    "I wrote SQL for doing said categorisation in BigQuery, [bird_grouping.sql](../sql/bird_grouping.sql). That SQL has since been rewritten for SQLite compatability, [sqlite_friendly_grouping.sql](../sql/sqlite_friendly_grouping.sql)\n",
    "\n",
    "This section of the notebook uses the categorising SQL to add a category field to `new_images.csv` using SQLite and output it to a new location `new_images_categorised.sql`."
   ]
  },
  {
   "cell_type": "code",
   "execution_count": 47,
   "metadata": {},
   "outputs": [
    {
     "name": "stdout",
     "output_type": "stream",
     "text": [
      "\u001b[34m==>\u001b[0m \u001b[1mDownloading https://formulae.brew.sh/api/formula.jws.json\u001b[0m\n",
      "######################################################################### 100.0%\n",
      "\u001b[34m==>\u001b[0m \u001b[1mDownloading https://formulae.brew.sh/api/cask.jws.json\u001b[0m\n",
      "######################################################################### 100.0%\n",
      "\u001b[33mWarning:\u001b[0m sqlite 3.45.0 is already installed and up-to-date.\n",
      "To reinstall 3.45.0, run:\n",
      "  brew reinstall sqlite\n"
     ]
    }
   ],
   "source": [
    "! brew install sqlite"
   ]
  },
  {
   "cell_type": "code",
   "execution_count": 48,
   "metadata": {},
   "outputs": [
    {
     "name": "stderr",
     "output_type": "stream",
     "text": [
      "new_images.csv:1: expected 3 columns but found 5 - extras ignored\n",
      "new_images.csv:2: expected 3 columns but found 5 - extras ignored\n",
      "new_images.csv:3: expected 3 columns but found 5 - extras ignored\n",
      "new_images.csv:4: expected 3 columns but found 5 - extras ignored\n",
      "new_images.csv:5: expected 3 columns but found 5 - extras ignored\n",
      "new_images.csv:6: expected 3 columns but found 5 - extras ignored\n",
      "new_images.csv:7: expected 3 columns but found 5 - extras ignored\n",
      "new_images.csv:8: expected 3 columns but found 5 - extras ignored\n",
      "new_images.csv:9: expected 3 columns but found 5 - extras ignored\n",
      "new_images.csv:10: expected 3 columns but found 5 - extras ignored\n",
      "new_images.csv:11: expected 3 columns but found 5 - extras ignored\n",
      "new_images.csv:12: expected 3 columns but found 5 - extras ignored\n",
      "new_images.csv:13: expected 3 columns but found 5 - extras ignored\n",
      "new_images.csv:14: expected 3 columns but found 5 - extras ignored\n",
      "new_images.csv:15: expected 3 columns but found 5 - extras ignored\n",
      "new_images.csv:16: expected 3 columns but found 5 - extras ignored\n",
      "new_images.csv:17: expected 3 columns but found 5 - extras ignored\n",
      "new_images.csv:18: expected 3 columns but found 5 - extras ignored\n",
      "new_images.csv:19: expected 3 columns but found 5 - extras ignored\n",
      "new_images.csv:20: expected 3 columns but found 5 - extras ignored\n",
      "new_images.csv:21: expected 3 columns but found 5 - extras ignored\n",
      "new_images.csv:22: expected 3 columns but found 5 - extras ignored\n",
      "new_images.csv:23: expected 3 columns but found 5 - extras ignored\n",
      "new_images.csv:24: expected 3 columns but found 5 - extras ignored\n",
      "new_images.csv:25: expected 3 columns but found 5 - extras ignored\n",
      "new_images.csv:26: expected 3 columns but found 5 - extras ignored\n",
      "new_images.csv:27: expected 3 columns but found 5 - extras ignored\n",
      "new_images.csv:28: expected 3 columns but found 5 - extras ignored\n",
      "new_images.csv:29: expected 3 columns but found 5 - extras ignored\n",
      "new_images.csv:30: expected 3 columns but found 5 - extras ignored\n",
      "new_images.csv:31: expected 3 columns but found 5 - extras ignored\n",
      "new_images.csv:32: expected 3 columns but found 5 - extras ignored\n",
      "new_images.csv:33: expected 3 columns but found 5 - extras ignored\n",
      "new_images.csv:34: expected 3 columns but found 5 - extras ignored\n",
      "new_images.csv:35: expected 3 columns but found 5 - extras ignored\n",
      "new_images.csv:36: expected 3 columns but found 5 - extras ignored\n",
      "new_images.csv:37: expected 3 columns but found 5 - extras ignored\n",
      "new_images.csv:38: expected 3 columns but found 5 - extras ignored\n",
      "new_images.csv:39: expected 3 columns but found 5 - extras ignored\n",
      "new_images.csv:40: expected 3 columns but found 5 - extras ignored\n",
      "new_images.csv:41: expected 3 columns but found 5 - extras ignored\n",
      "new_images.csv:42: expected 3 columns but found 5 - extras ignored\n",
      "new_images.csv:43: expected 3 columns but found 5 - extras ignored\n",
      "new_images.csv:44: expected 3 columns but found 5 - extras ignored\n",
      "new_images.csv:45: expected 3 columns but found 5 - extras ignored\n",
      "new_images.csv:46: expected 3 columns but found 5 - extras ignored\n",
      "new_images.csv:47: expected 3 columns but found 5 - extras ignored\n",
      "new_images.csv:48: expected 3 columns but found 5 - extras ignored\n",
      "new_images.csv:49: expected 3 columns but found 5 - extras ignored\n",
      "new_images.csv:50: expected 3 columns but found 5 - extras ignored\n",
      "new_images.csv:51: expected 3 columns but found 5 - extras ignored\n",
      "new_images.csv:52: expected 3 columns but found 5 - extras ignored\n",
      "new_images.csv:53: expected 3 columns but found 5 - extras ignored\n",
      "new_images.csv:54: expected 3 columns but found 5 - extras ignored\n",
      "new_images.csv:55: expected 3 columns but found 5 - extras ignored\n",
      "new_images.csv:56: expected 3 columns but found 5 - extras ignored\n",
      "new_images.csv:57: expected 3 columns but found 5 - extras ignored\n",
      "new_images.csv:58: expected 3 columns but found 5 - extras ignored\n",
      "new_images.csv:59: expected 3 columns but found 5 - extras ignored\n",
      "new_images.csv:60: expected 3 columns but found 5 - extras ignored\n",
      "new_images.csv:61: expected 3 columns but found 5 - extras ignored\n",
      "new_images.csv:62: expected 3 columns but found 5 - extras ignored\n",
      "new_images.csv:63: expected 3 columns but found 5 - extras ignored\n",
      "new_images.csv:64: expected 3 columns but found 5 - extras ignored\n",
      "new_images.csv:65: expected 3 columns but found 5 - extras ignored\n",
      "new_images.csv:66: expected 3 columns but found 5 - extras ignored\n",
      "new_images.csv:67: expected 3 columns but found 5 - extras ignored\n",
      "new_images.csv:68: expected 3 columns but found 5 - extras ignored\n",
      "new_images.csv:69: expected 3 columns but found 5 - extras ignored\n",
      "new_images.csv:70: expected 3 columns but found 5 - extras ignored\n",
      "new_images.csv:71: expected 3 columns but found 5 - extras ignored\n",
      "new_images.csv:72: expected 3 columns but found 5 - extras ignored\n",
      "new_images.csv:73: expected 3 columns but found 5 - extras ignored\n",
      "new_images.csv:74: expected 3 columns but found 5 - extras ignored\n",
      "new_images.csv:75: expected 3 columns but found 5 - extras ignored\n",
      "new_images.csv:76: expected 3 columns but found 5 - extras ignored\n",
      "new_images.csv:77: expected 3 columns but found 5 - extras ignored\n",
      "new_images.csv:78: expected 3 columns but found 5 - extras ignored\n",
      "new_images.csv:79: expected 3 columns but found 5 - extras ignored\n",
      "new_images.csv:80: expected 3 columns but found 5 - extras ignored\n",
      "new_images.csv:81: expected 3 columns but found 5 - extras ignored\n",
      "new_images.csv:82: expected 3 columns but found 5 - extras ignored\n",
      "new_images.csv:83: expected 3 columns but found 5 - extras ignored\n",
      "new_images.csv:84: expected 3 columns but found 5 - extras ignored\n",
      "new_images.csv:85: expected 3 columns but found 5 - extras ignored\n",
      "new_images.csv:86: expected 3 columns but found 5 - extras ignored\n",
      "new_images.csv:87: expected 3 columns but found 5 - extras ignored\n",
      "new_images.csv:88: expected 3 columns but found 5 - extras ignored\n",
      "new_images.csv:89: expected 3 columns but found 5 - extras ignored\n",
      "new_images.csv:90: expected 3 columns but found 5 - extras ignored\n",
      "new_images.csv:91: expected 3 columns but found 5 - extras ignored\n",
      "new_images.csv:92: expected 3 columns but found 5 - extras ignored\n",
      "new_images.csv:93: expected 3 columns but found 5 - extras ignored\n",
      "new_images.csv:94: expected 3 columns but found 5 - extras ignored\n",
      "new_images.csv:95: expected 3 columns but found 5 - extras ignored\n",
      "new_images.csv:96: expected 3 columns but found 5 - extras ignored\n",
      "new_images.csv:97: expected 3 columns but found 5 - extras ignored\n",
      "new_images.csv:98: expected 3 columns but found 5 - extras ignored\n",
      "new_images.csv:99: expected 3 columns but found 5 - extras ignored\n",
      "new_images.csv:100: expected 3 columns but found 5 - extras ignored\n",
      "new_images.csv:101: expected 3 columns but found 5 - extras ignored\n",
      "new_images.csv:102: expected 3 columns but found 5 - extras ignored\n",
      "new_images.csv:103: expected 3 columns but found 5 - extras ignored\n",
      "new_images.csv:104: expected 3 columns but found 5 - extras ignored\n",
      "new_images.csv:105: expected 3 columns but found 5 - extras ignored\n",
      "new_images.csv:106: expected 3 columns but found 5 - extras ignored\n",
      "new_images.csv:107: expected 3 columns but found 5 - extras ignored\n",
      "new_images.csv:108: expected 3 columns but found 5 - extras ignored\n",
      "new_images.csv:109: expected 3 columns but found 5 - extras ignored\n",
      "new_images.csv:110: expected 3 columns but found 5 - extras ignored\n",
      "new_images.csv:111: expected 3 columns but found 5 - extras ignored\n",
      "new_images.csv:112: expected 3 columns but found 5 - extras ignored\n",
      "new_images.csv:113: expected 3 columns but found 5 - extras ignored\n",
      "new_images.csv:114: expected 3 columns but found 5 - extras ignored\n",
      "new_images.csv:115: expected 3 columns but found 5 - extras ignored\n",
      "new_images.csv:116: expected 3 columns but found 5 - extras ignored\n",
      "new_images.csv:117: expected 3 columns but found 5 - extras ignored\n",
      "new_images.csv:118: expected 3 columns but found 5 - extras ignored\n",
      "new_images.csv:119: expected 3 columns but found 5 - extras ignored\n",
      "new_images.csv:120: expected 3 columns but found 5 - extras ignored\n",
      "new_images.csv:121: expected 3 columns but found 5 - extras ignored\n",
      "new_images.csv:122: expected 3 columns but found 5 - extras ignored\n",
      "new_images.csv:123: expected 3 columns but found 5 - extras ignored\n",
      "new_images.csv:124: expected 3 columns but found 5 - extras ignored\n",
      "new_images.csv:125: expected 3 columns but found 5 - extras ignored\n",
      "new_images.csv:126: expected 3 columns but found 5 - extras ignored\n",
      "new_images.csv:127: expected 3 columns but found 5 - extras ignored\n",
      "new_images.csv:128: expected 3 columns but found 5 - extras ignored\n",
      "new_images.csv:129: expected 3 columns but found 5 - extras ignored\n",
      "new_images.csv:130: expected 3 columns but found 5 - extras ignored\n",
      "new_images.csv:131: expected 3 columns but found 5 - extras ignored\n",
      "new_images.csv:132: expected 3 columns but found 5 - extras ignored\n",
      "new_images.csv:133: expected 3 columns but found 5 - extras ignored\n",
      "new_images.csv:134: expected 3 columns but found 5 - extras ignored\n",
      "new_images.csv:135: expected 3 columns but found 5 - extras ignored\n",
      "new_images.csv:136: expected 3 columns but found 5 - extras ignored\n",
      "new_images.csv:137: expected 3 columns but found 5 - extras ignored\n",
      "new_images.csv:138: expected 3 columns but found 5 - extras ignored\n",
      "new_images.csv:139: expected 3 columns but found 5 - extras ignored\n",
      "new_images.csv:140: expected 3 columns but found 5 - extras ignored\n",
      "new_images.csv:141: expected 3 columns but found 5 - extras ignored\n",
      "new_images.csv:142: expected 3 columns but found 5 - extras ignored\n",
      "new_images.csv:143: expected 3 columns but found 5 - extras ignored\n",
      "new_images.csv:144: expected 3 columns but found 5 - extras ignored\n",
      "new_images.csv:145: expected 3 columns but found 5 - extras ignored\n",
      "new_images.csv:146: expected 3 columns but found 5 - extras ignored\n",
      "new_images.csv:147: expected 3 columns but found 5 - extras ignored\n",
      "new_images.csv:148: expected 3 columns but found 5 - extras ignored\n",
      "new_images.csv:149: expected 3 columns but found 5 - extras ignored\n",
      "new_images.csv:150: expected 3 columns but found 5 - extras ignored\n",
      "new_images.csv:151: expected 3 columns but found 5 - extras ignored\n",
      "new_images.csv:152: expected 3 columns but found 5 - extras ignored\n",
      "new_images.csv:153: expected 3 columns but found 5 - extras ignored\n",
      "new_images.csv:154: expected 3 columns but found 5 - extras ignored\n",
      "new_images.csv:155: expected 3 columns but found 5 - extras ignored\n",
      "new_images.csv:156: expected 3 columns but found 5 - extras ignored\n",
      "new_images.csv:157: expected 3 columns but found 5 - extras ignored\n",
      "new_images.csv:158: expected 3 columns but found 5 - extras ignored\n",
      "new_images.csv:159: expected 3 columns but found 5 - extras ignored\n",
      "new_images.csv:160: expected 3 columns but found 5 - extras ignored\n",
      "new_images.csv:161: expected 3 columns but found 5 - extras ignored\n",
      "new_images.csv:162: expected 3 columns but found 5 - extras ignored\n",
      "new_images.csv:163: expected 3 columns but found 5 - extras ignored\n",
      "new_images.csv:164: expected 3 columns but found 5 - extras ignored\n",
      "new_images.csv:165: expected 3 columns but found 5 - extras ignored\n",
      "new_images.csv:166: expected 3 columns but found 5 - extras ignored\n",
      "new_images.csv:167: expected 3 columns but found 5 - extras ignored\n",
      "new_images.csv:168: expected 3 columns but found 5 - extras ignored\n",
      "new_images.csv:169: expected 3 columns but found 5 - extras ignored\n",
      "new_images.csv:170: expected 3 columns but found 5 - extras ignored\n",
      "new_images.csv:171: expected 3 columns but found 5 - extras ignored\n",
      "new_images.csv:172: expected 3 columns but found 5 - extras ignored\n",
      "new_images.csv:173: expected 3 columns but found 5 - extras ignored\n",
      "new_images.csv:174: expected 3 columns but found 5 - extras ignored\n",
      "new_images.csv:175: expected 3 columns but found 5 - extras ignored\n",
      "new_images.csv:176: expected 3 columns but found 5 - extras ignored\n",
      "new_images.csv:177: expected 3 columns but found 5 - extras ignored\n",
      "new_images.csv:178: expected 3 columns but found 5 - extras ignored\n",
      "new_images.csv:179: expected 3 columns but found 5 - extras ignored\n",
      "new_images.csv:180: expected 3 columns but found 5 - extras ignored\n",
      "new_images.csv:181: expected 3 columns but found 5 - extras ignored\n",
      "new_images.csv:182: expected 3 columns but found 5 - extras ignored\n",
      "new_images.csv:183: expected 3 columns but found 5 - extras ignored\n",
      "new_images.csv:184: expected 3 columns but found 5 - extras ignored\n",
      "new_images.csv:185: expected 3 columns but found 5 - extras ignored\n",
      "new_images.csv:186: expected 3 columns but found 5 - extras ignored\n",
      "new_images.csv:187: expected 3 columns but found 5 - extras ignored\n",
      "new_images.csv:188: expected 3 columns but found 5 - extras ignored\n",
      "new_images.csv:189: expected 3 columns but found 5 - extras ignored\n",
      "new_images.csv:190: expected 3 columns but found 5 - extras ignored\n",
      "new_images.csv:191: expected 3 columns but found 5 - extras ignored\n",
      "new_images.csv:192: expected 3 columns but found 5 - extras ignored\n",
      "new_images.csv:193: expected 3 columns but found 5 - extras ignored\n",
      "new_images.csv:194: expected 3 columns but found 5 - extras ignored\n",
      "new_images.csv:195: expected 3 columns but found 5 - extras ignored\n",
      "new_images.csv:196: expected 3 columns but found 5 - extras ignored\n",
      "new_images.csv:197: expected 3 columns but found 5 - extras ignored\n",
      "new_images.csv:198: expected 3 columns but found 5 - extras ignored\n",
      "new_images.csv:199: expected 3 columns but found 5 - extras ignored\n",
      "new_images.csv:200: expected 3 columns but found 5 - extras ignored\n",
      "new_images.csv:201: expected 3 columns but found 5 - extras ignored\n",
      "new_images.csv:202: expected 3 columns but found 5 - extras ignored\n",
      "new_images.csv:203: expected 3 columns but found 5 - extras ignored\n",
      "new_images.csv:204: expected 3 columns but found 5 - extras ignored\n",
      "new_images.csv:205: expected 3 columns but found 5 - extras ignored\n",
      "new_images.csv:206: expected 3 columns but found 5 - extras ignored\n",
      "new_images.csv:207: expected 3 columns but found 5 - extras ignored\n",
      "new_images.csv:208: expected 3 columns but found 5 - extras ignored\n",
      "new_images.csv:209: expected 3 columns but found 5 - extras ignored\n",
      "new_images.csv:210: expected 3 columns but found 5 - extras ignored\n",
      "new_images.csv:211: expected 3 columns but found 5 - extras ignored\n",
      "new_images.csv:212: expected 3 columns but found 5 - extras ignored\n",
      "new_images.csv:213: expected 3 columns but found 5 - extras ignored\n",
      "new_images.csv:214: expected 3 columns but found 5 - extras ignored\n",
      "new_images.csv:215: expected 3 columns but found 5 - extras ignored\n",
      "new_images.csv:216: expected 3 columns but found 5 - extras ignored\n",
      "new_images.csv:217: expected 3 columns but found 5 - extras ignored\n",
      "new_images.csv:218: expected 3 columns but found 5 - extras ignored\n",
      "new_images.csv:219: expected 3 columns but found 5 - extras ignored\n",
      "new_images.csv:220: expected 3 columns but found 5 - extras ignored\n",
      "new_images.csv:221: expected 3 columns but found 5 - extras ignored\n",
      "new_images.csv:222: expected 3 columns but found 5 - extras ignored\n",
      "new_images.csv:223: expected 3 columns but found 5 - extras ignored\n",
      "new_images.csv:224: expected 3 columns but found 5 - extras ignored\n",
      "new_images.csv:225: expected 3 columns but found 5 - extras ignored\n",
      "new_images.csv:226: expected 3 columns but found 5 - extras ignored\n",
      "new_images.csv:227: expected 3 columns but found 5 - extras ignored\n",
      "new_images.csv:228: expected 3 columns but found 5 - extras ignored\n",
      "new_images.csv:229: expected 3 columns but found 5 - extras ignored\n",
      "new_images.csv:230: expected 3 columns but found 5 - extras ignored\n",
      "new_images.csv:231: expected 3 columns but found 5 - extras ignored\n",
      "new_images.csv:232: expected 3 columns but found 5 - extras ignored\n",
      "new_images.csv:233: expected 3 columns but found 5 - extras ignored\n",
      "new_images.csv:234: expected 3 columns but found 5 - extras ignored\n",
      "new_images.csv:235: expected 3 columns but found 5 - extras ignored\n",
      "new_images.csv:236: expected 3 columns but found 5 - extras ignored\n",
      "new_images.csv:237: expected 3 columns but found 5 - extras ignored\n",
      "new_images.csv:238: expected 3 columns but found 5 - extras ignored\n",
      "new_images.csv:239: expected 3 columns but found 5 - extras ignored\n",
      "new_images.csv:240: expected 3 columns but found 5 - extras ignored\n",
      "new_images.csv:241: expected 3 columns but found 5 - extras ignored\n",
      "new_images.csv:242: expected 3 columns but found 5 - extras ignored\n"
     ]
    },
    {
     "name": "stdout",
     "output_type": "stream",
     "text": [
      "name  image_id                category \n",
      "----  ----------------------  ---------\n",
      "      name                    image_id \n",
      "0     Asian Green Bee-eater   429960671\n",
      "1     Sri Lanka Frogmouth     612850408\n",
      "2     Gray-headed Fish-Eagle  415306831\n",
      "4     Pheasant-tailed Jacana  714944   \n"
     ]
    },
    {
     "name": "stderr",
     "output_type": "stream",
     "text": [
      "new_images.csv:243: expected 3 columns but found 5 - extras ignored\n",
      "new_images.csv:244: expected 3 columns but found 5 - extras ignored\n",
      "new_images.csv:245: expected 3 columns but found 5 - extras ignored\n",
      "new_images.csv:246: expected 3 columns but found 5 - extras ignored\n",
      "new_images.csv:247: expected 3 columns but found 5 - extras ignored\n",
      "new_images.csv:248: expected 3 columns but found 5 - extras ignored\n",
      "new_images.csv:249: expected 3 columns but found 5 - extras ignored\n",
      "new_images.csv:250: expected 3 columns but found 5 - extras ignored\n",
      "new_images.csv:251: expected 3 columns but found 5 - extras ignored\n",
      "new_images.csv:252: expected 3 columns but found 5 - extras ignored\n"
     ]
    }
   ],
   "source": [
    "%%bash\n",
    "\n",
    "sqlite3 2> >(grep -v 'expected 3 columns but found 2 - filling the rest with NULL' >&2)\n",
    "\n",
    "DROP TABLE IF EXISTS 'birds';\n",
    "CREATE TABLE birds(name text, image_id text, category text);\n",
    ".mode csv\n",
    ".import new_images.csv birds\n",
    ".mode column\n",
    "SELECT * FROM birds LIMIT 5;\n",
    ".mode csv\n",
    ".output new_images_categorised.csv\n",
    ".read ../sql/sqlite_friendly_grouping.sql\n",
    ".output stdout\n"
   ]
  },
  {
   "cell_type": "markdown",
   "metadata": {},
   "source": [
    "`# Step 5. Inspect`"
   ]
  },
  {
   "cell_type": "code",
   "execution_count": 49,
   "metadata": {},
   "outputs": [
    {
     "data": {
      "text/html": [
       "<div>\n",
       "<style scoped>\n",
       "    .dataframe tbody tr th:only-of-type {\n",
       "        vertical-align: middle;\n",
       "    }\n",
       "\n",
       "    .dataframe tbody tr th {\n",
       "        vertical-align: top;\n",
       "    }\n",
       "\n",
       "    .dataframe thead th {\n",
       "        text-align: right;\n",
       "    }\n",
       "</style>\n",
       "<table border=\"1\" class=\"dataframe\">\n",
       "  <thead>\n",
       "    <tr style=\"text-align: right;\">\n",
       "      <th></th>\n",
       "      <th>name</th>\n",
       "      <th>image_id</th>\n",
       "      <th>category</th>\n",
       "    </tr>\n",
       "  </thead>\n",
       "  <tbody>\n",
       "    <tr>\n",
       "      <th>91</th>\n",
       "      <td>135.0</td>\n",
       "      <td>Gray-headed Swamphen</td>\n",
       "      <td>NaN</td>\n",
       "    </tr>\n",
       "    <tr>\n",
       "      <th>44</th>\n",
       "      <td>62.0</td>\n",
       "      <td>Chestnut-backed Owlet</td>\n",
       "      <td>NaN</td>\n",
       "    </tr>\n",
       "    <tr>\n",
       "      <th>232</th>\n",
       "      <td>337.0</td>\n",
       "      <td>Purple Sunbird</td>\n",
       "      <td>NaN</td>\n",
       "    </tr>\n",
       "    <tr>\n",
       "      <th>193</th>\n",
       "      <td>274.0</td>\n",
       "      <td>Loten's Sunbird</td>\n",
       "      <td>NaN</td>\n",
       "    </tr>\n",
       "    <tr>\n",
       "      <th>231</th>\n",
       "      <td>332.0</td>\n",
       "      <td>Knob-billed Duck</td>\n",
       "      <td>NaN</td>\n",
       "    </tr>\n",
       "    <tr>\n",
       "      <th>6</th>\n",
       "      <td>6.0</td>\n",
       "      <td>Asian Woolly-necked Stork</td>\n",
       "      <td>NaN</td>\n",
       "    </tr>\n",
       "    <tr>\n",
       "      <th>237</th>\n",
       "      <td>343.0</td>\n",
       "      <td>Brahminy Kite</td>\n",
       "      <td>NaN</td>\n",
       "    </tr>\n",
       "    <tr>\n",
       "      <th>178</th>\n",
       "      <td>258.0</td>\n",
       "      <td>Brown Fish-Owl</td>\n",
       "      <td>NaN</td>\n",
       "    </tr>\n",
       "    <tr>\n",
       "      <th>116</th>\n",
       "      <td>170.0</td>\n",
       "      <td>Sri Lanka Junglefowl</td>\n",
       "      <td>NaN</td>\n",
       "    </tr>\n",
       "    <tr>\n",
       "      <th>125</th>\n",
       "      <td>184.0</td>\n",
       "      <td>Green Imperial-Pigeon</td>\n",
       "      <td>NaN</td>\n",
       "    </tr>\n",
       "  </tbody>\n",
       "</table>\n",
       "</div>"
      ],
      "text/plain": [
       "      name                   image_id  category\n",
       "91   135.0       Gray-headed Swamphen       NaN\n",
       "44    62.0      Chestnut-backed Owlet       NaN\n",
       "232  337.0             Purple Sunbird       NaN\n",
       "193  274.0            Loten's Sunbird       NaN\n",
       "231  332.0           Knob-billed Duck       NaN\n",
       "6      6.0  Asian Woolly-necked Stork       NaN\n",
       "237  343.0              Brahminy Kite       NaN\n",
       "178  258.0             Brown Fish-Owl       NaN\n",
       "116  170.0       Sri Lanka Junglefowl       NaN\n",
       "125  184.0      Green Imperial-Pigeon       NaN"
      ]
     },
     "execution_count": 49,
     "metadata": {},
     "output_type": "execute_result"
    }
   ],
   "source": [
    "# Import data into a dataframe for inspection\n",
    "import pandas as pd\n",
    "df_images_plus_latest = pd.read_csv('new_images_categorised.csv')\n",
    "df_images_plus_latest.sample(10)"
   ]
  },
  {
   "cell_type": "code",
   "execution_count": 50,
   "metadata": {},
   "outputs": [
    {
     "name": "stdout",
     "output_type": "stream",
     "text": [
      "<class 'pandas.core.frame.DataFrame'>\n",
      "RangeIndex: 252 entries, 0 to 251\n",
      "Data columns (total 3 columns):\n",
      " #   Column    Non-Null Count  Dtype  \n",
      "---  ------    --------------  -----  \n",
      " 0   name      251 non-null    float64\n",
      " 1   image_id  252 non-null    object \n",
      " 2   category  0 non-null      float64\n",
      "dtypes: float64(2), object(1)\n",
      "memory usage: 6.0+ KB\n"
     ]
    }
   ],
   "source": [
    "df_images_plus_latest.info()"
   ]
  },
  {
   "cell_type": "code",
   "execution_count": 51,
   "metadata": {},
   "outputs": [
    {
     "data": {
      "text/plain": [
       "array([ nan,   0.,   1.,   2.,   4.,   5.,   6.,   7.,   8.,   9.,  10.,\n",
       "        11.,  12.,  13.,  14.,  15.,  16.,  18.,  20.,  24.,  28.,  29.,\n",
       "        30.,  31.,  32.,  33.,  37.,  38.,  39.,  41.,  42.,  43.,  44.,\n",
       "        45.,  47.,  48.,  49.,  51.,  53.,  54.,  56.,  57.,  58.,  61.,\n",
       "        62.,  63.,  66.,  68.,  69.,  71.,  72.,  74.,  76.,  77.,  78.,\n",
       "        79.,  80.,  81.,  83.,  84.,  85.,  86.,  88.,  90.,  91.,  94.,\n",
       "        95.,  96.,  97.,  98.,  99., 104., 105., 107., 108., 109., 110.,\n",
       "       111., 113., 114., 115., 116., 117., 118., 124., 125., 126., 127.,\n",
       "       128., 129., 131., 135., 137., 138., 139., 142., 143., 144., 146.,\n",
       "       147., 148., 149., 152., 153., 154., 155., 156., 157., 158., 160.,\n",
       "       161., 163., 164., 166., 167., 168., 170., 171., 173., 175., 177.,\n",
       "       178., 179., 180., 182., 184., 185., 187., 188., 190., 192., 193.,\n",
       "       194., 195., 196., 197., 198., 200., 201., 206., 209., 212., 213.,\n",
       "       214., 216., 217., 219., 220., 222., 223., 224., 225., 226., 227.,\n",
       "       229., 230., 231., 232., 233., 234., 235., 237., 238., 239., 240.,\n",
       "       241., 242., 243., 244., 245., 246., 247., 250., 251., 252., 254.,\n",
       "       256., 257., 258., 260., 261., 262., 263., 264., 265., 266., 267.,\n",
       "       268., 269., 270., 271., 272., 273., 274., 275., 276., 277., 278.,\n",
       "       280., 283., 284., 285., 293., 294., 295., 296., 297., 298., 299.,\n",
       "       301., 302., 303., 304., 305., 306., 307., 308., 310., 311., 312.,\n",
       "       313., 315., 316., 317., 320., 324., 325., 327., 328., 329., 331.,\n",
       "       332., 337., 338., 340., 341., 342., 343., 344., 345., 346., 347.,\n",
       "       349., 350., 352., 353., 354., 355., 356., 357., 358., 359.])"
      ]
     },
     "execution_count": 51,
     "metadata": {},
     "output_type": "execute_result"
    }
   ],
   "source": [
    "# Check for null categories. If any, modify sqlite_friendly_grouping.sql to fix.\n",
    "df_images_plus_latest[df_images_plus_latest.category.isnull()].name.unique()"
   ]
  },
  {
   "cell_type": "code",
   "execution_count": 52,
   "metadata": {},
   "outputs": [
    {
     "ename": "IndexError",
     "evalue": "index 0 is out of bounds for axis 0 with size 0",
     "output_type": "error",
     "traceback": [
      "\u001b[0;31m---------------------------------------------------------------------------\u001b[0m",
      "\u001b[0;31mIndexError\u001b[0m                                Traceback (most recent call last)",
      "Cell \u001b[0;32mIn[52], line 2\u001b[0m\n\u001b[1;32m      1\u001b[0m \u001b[38;5;66;03m# Check distribution of grouping\u001b[39;00m\n\u001b[0;32m----> 2\u001b[0m \u001b[43mdf_images_plus_latest\u001b[49m\u001b[43m[\u001b[49m\u001b[38;5;124;43m'\u001b[39;49m\u001b[38;5;124;43mcategory\u001b[39;49m\u001b[38;5;124;43m'\u001b[39;49m\u001b[43m]\u001b[49m\u001b[38;5;241;43m.\u001b[39;49m\u001b[43mvalue_counts\u001b[49m\u001b[43m(\u001b[49m\u001b[43m)\u001b[49m\u001b[38;5;241;43m.\u001b[39;49m\u001b[43mplot\u001b[49m\u001b[43m(\u001b[49m\u001b[43mkind\u001b[49m\u001b[38;5;241;43m=\u001b[39;49m\u001b[38;5;124;43m'\u001b[39;49m\u001b[38;5;124;43mbarh\u001b[39;49m\u001b[38;5;124;43m'\u001b[39;49m\u001b[43m)\u001b[49m\n",
      "File \u001b[0;32m~/Library/Python/3.9/lib/python/site-packages/pandas/plotting/_core.py:1031\u001b[0m, in \u001b[0;36mPlotAccessor.__call__\u001b[0;34m(self, *args, **kwargs)\u001b[0m\n\u001b[1;32m   1028\u001b[0m             label_name \u001b[38;5;241m=\u001b[39m label_kw \u001b[38;5;129;01mor\u001b[39;00m data\u001b[38;5;241m.\u001b[39mcolumns\n\u001b[1;32m   1029\u001b[0m             data\u001b[38;5;241m.\u001b[39mcolumns \u001b[38;5;241m=\u001b[39m label_name\n\u001b[0;32m-> 1031\u001b[0m \u001b[38;5;28;01mreturn\u001b[39;00m \u001b[43mplot_backend\u001b[49m\u001b[38;5;241;43m.\u001b[39;49m\u001b[43mplot\u001b[49m\u001b[43m(\u001b[49m\u001b[43mdata\u001b[49m\u001b[43m,\u001b[49m\u001b[43m \u001b[49m\u001b[43mkind\u001b[49m\u001b[38;5;241;43m=\u001b[39;49m\u001b[43mkind\u001b[49m\u001b[43m,\u001b[49m\u001b[43m \u001b[49m\u001b[38;5;241;43m*\u001b[39;49m\u001b[38;5;241;43m*\u001b[39;49m\u001b[43mkwargs\u001b[49m\u001b[43m)\u001b[49m\n",
      "File \u001b[0;32m~/Library/Python/3.9/lib/python/site-packages/pandas/plotting/_matplotlib/__init__.py:71\u001b[0m, in \u001b[0;36mplot\u001b[0;34m(data, kind, **kwargs)\u001b[0m\n\u001b[1;32m     69\u001b[0m         kwargs[\u001b[38;5;124m\"\u001b[39m\u001b[38;5;124max\u001b[39m\u001b[38;5;124m\"\u001b[39m] \u001b[38;5;241m=\u001b[39m \u001b[38;5;28mgetattr\u001b[39m(ax, \u001b[38;5;124m\"\u001b[39m\u001b[38;5;124mleft_ax\u001b[39m\u001b[38;5;124m\"\u001b[39m, ax)\n\u001b[1;32m     70\u001b[0m plot_obj \u001b[38;5;241m=\u001b[39m PLOT_CLASSES[kind](data, \u001b[38;5;241m*\u001b[39m\u001b[38;5;241m*\u001b[39mkwargs)\n\u001b[0;32m---> 71\u001b[0m \u001b[43mplot_obj\u001b[49m\u001b[38;5;241;43m.\u001b[39;49m\u001b[43mgenerate\u001b[49m\u001b[43m(\u001b[49m\u001b[43m)\u001b[49m\n\u001b[1;32m     72\u001b[0m plot_obj\u001b[38;5;241m.\u001b[39mdraw()\n\u001b[1;32m     73\u001b[0m \u001b[38;5;28;01mreturn\u001b[39;00m plot_obj\u001b[38;5;241m.\u001b[39mresult\n",
      "File \u001b[0;32m~/Library/Python/3.9/lib/python/site-packages/pandas/plotting/_matplotlib/core.py:460\u001b[0m, in \u001b[0;36mMPLPlot.generate\u001b[0;34m(self)\u001b[0m\n\u001b[1;32m    458\u001b[0m \u001b[38;5;28;01mfor\u001b[39;00m ax \u001b[38;5;129;01min\u001b[39;00m \u001b[38;5;28mself\u001b[39m\u001b[38;5;241m.\u001b[39maxes:\n\u001b[1;32m    459\u001b[0m     \u001b[38;5;28mself\u001b[39m\u001b[38;5;241m.\u001b[39m_post_plot_logic_common(ax, \u001b[38;5;28mself\u001b[39m\u001b[38;5;241m.\u001b[39mdata)\n\u001b[0;32m--> 460\u001b[0m     \u001b[38;5;28;43mself\u001b[39;49m\u001b[38;5;241;43m.\u001b[39;49m\u001b[43m_post_plot_logic\u001b[49m\u001b[43m(\u001b[49m\u001b[43max\u001b[49m\u001b[43m,\u001b[49m\u001b[43m \u001b[49m\u001b[38;5;28;43mself\u001b[39;49m\u001b[38;5;241;43m.\u001b[39;49m\u001b[43mdata\u001b[49m\u001b[43m)\u001b[49m\n",
      "File \u001b[0;32m~/Library/Python/3.9/lib/python/site-packages/pandas/plotting/_matplotlib/core.py:1757\u001b[0m, in \u001b[0;36mBarPlot._post_plot_logic\u001b[0;34m(self, ax, data)\u001b[0m\n\u001b[1;32m   1754\u001b[0m \u001b[38;5;28;01melse\u001b[39;00m:\n\u001b[1;32m   1755\u001b[0m     str_index \u001b[38;5;241m=\u001b[39m [pprint_thing(key) \u001b[38;5;28;01mfor\u001b[39;00m key \u001b[38;5;129;01min\u001b[39;00m \u001b[38;5;28mrange\u001b[39m(data\u001b[38;5;241m.\u001b[39mshape[\u001b[38;5;241m0\u001b[39m])]\n\u001b[0;32m-> 1757\u001b[0m s_edge \u001b[38;5;241m=\u001b[39m \u001b[38;5;28;43mself\u001b[39;49m\u001b[38;5;241;43m.\u001b[39;49m\u001b[43max_pos\u001b[49m\u001b[43m[\u001b[49m\u001b[38;5;241;43m0\u001b[39;49m\u001b[43m]\u001b[49m \u001b[38;5;241m-\u001b[39m \u001b[38;5;241m0.25\u001b[39m \u001b[38;5;241m+\u001b[39m \u001b[38;5;28mself\u001b[39m\u001b[38;5;241m.\u001b[39mlim_offset\n\u001b[1;32m   1758\u001b[0m e_edge \u001b[38;5;241m=\u001b[39m \u001b[38;5;28mself\u001b[39m\u001b[38;5;241m.\u001b[39max_pos[\u001b[38;5;241m-\u001b[39m\u001b[38;5;241m1\u001b[39m] \u001b[38;5;241m+\u001b[39m \u001b[38;5;241m0.25\u001b[39m \u001b[38;5;241m+\u001b[39m \u001b[38;5;28mself\u001b[39m\u001b[38;5;241m.\u001b[39mbar_width \u001b[38;5;241m+\u001b[39m \u001b[38;5;28mself\u001b[39m\u001b[38;5;241m.\u001b[39mlim_offset\n\u001b[1;32m   1760\u001b[0m \u001b[38;5;28mself\u001b[39m\u001b[38;5;241m.\u001b[39m_decorate_ticks(ax, \u001b[38;5;28mself\u001b[39m\u001b[38;5;241m.\u001b[39m_get_index_name(), str_index, s_edge, e_edge)\n",
      "\u001b[0;31mIndexError\u001b[0m: index 0 is out of bounds for axis 0 with size 0"
     ]
    },
    {
     "data": {
      "image/png": "[encoded data removed]",
      "text/plain": [
       "<Figure size 640x480 with 1 Axes>"
      ]
     },
     "metadata": {},
     "output_type": "display_data"
    }
   ],
   "source": [
    "# Check distribution of grouping\n",
    "df_images_plus_latest['category'].value_counts().plot(kind='barh')"
   ]
  },
  {
   "cell_type": "code",
   "execution_count": null,
   "metadata": {},
   "outputs": [
    {
     "data": {
      "text/html": [
       "<div>\n",
       "<style scoped>\n",
       "    .dataframe tbody tr th:only-of-type {\n",
       "        vertical-align: middle;\n",
       "    }\n",
       "\n",
       "    .dataframe tbody tr th {\n",
       "        vertical-align: top;\n",
       "    }\n",
       "\n",
       "    .dataframe thead th {\n",
       "        text-align: right;\n",
       "    }\n",
       "</style>\n",
       "<table border=\"1\" class=\"dataframe\">\n",
       "  <thead>\n",
       "    <tr style=\"text-align: right;\">\n",
       "      <th></th>\n",
       "      <th>Unnamed: 0</th>\n",
       "      <th>name</th>\n",
       "      <th>image_id</th>\n",
       "      <th>category</th>\n",
       "      <th>row_num</th>\n",
       "    </tr>\n",
       "  </thead>\n",
       "  <tbody>\n",
       "  </tbody>\n",
       "</table>\n",
       "</div>"
      ],
      "text/plain": [
       "Empty DataFrame\n",
       "Columns: [Unnamed: 0, name, image_id, category, row_num]\n",
       "Index: []"
      ]
     },
     "execution_count": 45,
     "metadata": {},
     "output_type": "execute_result"
    }
   ],
   "source": [
    "# Check for duplicated images\n",
    "df_images_plus_latest[df_images_plus_latest.image_id.duplicated()]"
   ]
  },
  {
   "cell_type": "code",
   "execution_count": null,
   "metadata": {},
   "outputs": [
    {
     "data": {
      "text/plain": [
       "<Axes: ylabel='name'>"
      ]
     },
     "execution_count": 46,
     "metadata": {},
     "output_type": "execute_result"
    },
    {
     "data": {
      "image/png": "[encoded data removed]",
      "text/plain": [
       "<Figure size 640x480 with 1 Axes>"
      ]
     },
     "metadata": {},
     "output_type": "display_data"
    }
   ],
   "source": [
    "# Check for species grouping - (too many to plot so just showing top and bottom 10)\n",
    "pd.concat([df_images_plus_latest['name'].value_counts().head(10), df_images_plus_latest['name'].value_counts().tail(10)]).plot(kind='barh')"
   ]
  },
  {
   "cell_type": "markdown",
   "metadata": {},
   "source": [
    "`# Step 6. Optional Extra Cleaning`"
   ]
  },
  {
   "cell_type": "code",
   "execution_count": null,
   "metadata": {},
   "outputs": [],
   "source": [
    "# Cut back over-indexed birds\n",
    "\n",
    "vc = df_images_plus_latest.name.value_counts()\n",
    "overindexed_species = df_images_plus_latest.name.value_counts()[vc > 10]\n",
    "\n",
    "print(f'The median number of images per species is {vc.median()}')\n",
    "print(f'{overindexed_species.count()} species have more than 10 images')\n",
    "print(f'They are: \\n {overindexed_species}')"
   ]
  },
  {
   "cell_type": "code",
   "execution_count": null,
   "metadata": {},
   "outputs": [],
   "source": [
    "# Reduce max images per species to 10\n",
    "\n",
    "df_images_plus_latest['row_num'] = df_images_plus_latest.sort_values(['name', 'image_id'], ascending=True).groupby(['name', 'category']).cumcount() + 1\n",
    "df_reduced = df_images_plus_latest[df_images_plus_latest.row_num <= 10]\n",
    "\n",
    "df_reduced[['name','image_id','category']].to_csv('new_images_categorised_reduced.csv', index=False)"
   ]
  },
  {
   "cell_type": "code",
   "execution_count": null,
   "metadata": {},
   "outputs": [],
   "source": [
    "# Check distribution of grouping\n",
    "df_reduced['category'].value_counts().plot(kind='barh')"
   ]
  },
  {
   "cell_type": "markdown",
   "metadata": {},
   "source": [
    "# Done! 🎉\n",
    "\n",
    "Your fresh twitch or tweek images are ready to go"
   ]
  }
 ],
 "metadata": {
  "kernelspec": {
   "display_name": "Python 3",
   "language": "python",
   "name": "python3"
  },
  "language_info": {
   "codemirror_mode": {
    "name": "ipython",
    "version": 3
   },
   "file_extension": ".py",
   "mimetype": "text/x-python",
   "name": "python",
   "nbconvert_exporter": "python",
   "pygments_lexer": "ipython3",
   "version": "3.9.6"
  }
 },
 "nbformat": 4,
 "nbformat_minor": 2
}
